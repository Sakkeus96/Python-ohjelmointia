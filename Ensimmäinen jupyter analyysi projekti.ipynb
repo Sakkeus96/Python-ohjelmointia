{
 "cells": [
  {
   "cell_type": "markdown",
   "metadata": {},
   "source": [
    "# Lontoon Airbnb asuntojen tärkeimmät muuttujat hinnan kannalta\n",
    "\n",
    "### Analyysin tarkoitus\n",
    "* Tarkoituksena on tarjota Lontoon airbnb asunnon vuokranantajalle avaimet hinnan määrittämiseen. \n",
    "* Analyysiä voidaan käyttää hyödyksi jo olemassa oleviin asuntoihin tai tukena uuden asunnon ostossa.\n",
    "* Analyysi on tehty yhden, kahden ja yli kahden makuuhuoneen asunnoille erikseen, koska niiden hintaa vaikuttavat eri tekijät.\n",
    "\n",
    "\n",
    "#### Aluksi otetaan tarvittavat kirjastot käyttöön."
   ]
  },
  {
   "cell_type": "code",
   "execution_count": 62,
   "metadata": {},
   "outputs": [
    {
     "name": "stdout",
     "output_type": "stream",
     "text": [
      "Requirement already satisfied: sklearn in c:\\users\\sakul\\anaconda3\\lib\\site-packages (0.0)\n",
      "Requirement already satisfied: scikit-learn in c:\\users\\sakul\\anaconda3\\lib\\site-packages (from sklearn) (0.21.3)\n",
      "Requirement already satisfied: numpy>=1.11.0 in c:\\users\\sakul\\anaconda3\\lib\\site-packages (from scikit-learn->sklearn) (1.16.5)\n",
      "Requirement already satisfied: joblib>=0.11 in c:\\users\\sakul\\anaconda3\\lib\\site-packages (from scikit-learn->sklearn) (0.13.2)\n",
      "Requirement already satisfied: scipy>=0.17.0 in c:\\users\\sakul\\anaconda3\\lib\\site-packages (from scikit-learn->sklearn) (1.3.1)\n"
     ]
    }
   ],
   "source": [
    "!pip install sklearn\n",
    "import pandas as pd\n",
    "import numpy as np\n",
    "from sklearn import ensemble\n",
    "from sklearn import linear_model\n",
    "from sklearn.model_selection import GridSearchCV\n",
    "from sklearn import preprocessing\n",
    "from sklearn.model_selection import train_test_split\n",
    "import sklearn.metrics as metrics\n",
    "import matplotlib.pyplot as plt\n",
    "from collections import Counter"
   ]
  },
  {
   "cell_type": "markdown",
   "metadata": {},
   "source": [
    "#### Katsotaan, mitä sarakkeita datasta löytyy."
   ]
  },
  {
   "cell_type": "code",
   "execution_count": 63,
   "metadata": {},
   "outputs": [
    {
     "name": "stdout",
     "output_type": "stream",
     "text": [
      "Sarakkeet: ['id', 'listing_url', 'scrape_id', 'last_scraped', 'name', 'summary', 'space', 'description', 'experiences_offered', 'neighborhood_overview', 'notes', 'transit', 'access', 'interaction', 'house_rules', 'thumbnail_url', 'medium_url', 'picture_url', 'xl_picture_url', 'host_id', 'host_url', 'host_name', 'host_since', 'host_location', 'host_about', 'host_response_time', 'host_response_rate', 'host_acceptance_rate', 'host_is_superhost', 'host_thumbnail_url', 'host_picture_url', 'host_neighbourhood', 'host_listings_count', 'host_total_listings_count', 'host_verifications', 'host_has_profile_pic', 'host_identity_verified', 'street', 'neighbourhood', 'neighbourhood_cleansed', 'neighbourhood_group_cleansed', 'city', 'state', 'zipcode', 'market', 'smart_location', 'country_code', 'country', 'latitude', 'longitude', 'is_location_exact', 'property_type', 'room_type', 'accommodates', 'bathrooms', 'bedrooms', 'beds', 'bed_type', 'amenities', 'square_feet', 'price', 'weekly_price', 'monthly_price', 'security_deposit', 'cleaning_fee', 'guests_included', 'extra_people', 'minimum_nights', 'maximum_nights', 'minimum_minimum_nights', 'maximum_minimum_nights', 'minimum_maximum_nights', 'maximum_maximum_nights', 'minimum_nights_avg_ntm', 'maximum_nights_avg_ntm', 'calendar_updated', 'has_availability', 'availability_30', 'availability_60', 'availability_90', 'availability_365', 'calendar_last_scraped', 'number_of_reviews', 'number_of_reviews_ltm', 'first_review', 'last_review', 'review_scores_rating', 'review_scores_accuracy', 'review_scores_cleanliness', 'review_scores_checkin', 'review_scores_communication', 'review_scores_location', 'review_scores_value', 'requires_license', 'license', 'jurisdiction_names', 'instant_bookable', 'is_business_travel_ready', 'cancellation_policy', 'require_guest_profile_picture', 'require_guest_phone_verification', 'calculated_host_listings_count', 'calculated_host_listings_count_entire_homes', 'calculated_host_listings_count_private_rooms', 'calculated_host_listings_count_shared_rooms', 'reviews_per_month']\n"
     ]
    }
   ],
   "source": [
    "LONDON = 'listings.csv.gz'\n",
    "df = pd.read_csv(LONDON, low_memory=False)\n",
    "print('Sarakkeet:', df.columns.values.tolist())"
   ]
  },
  {
   "cell_type": "markdown",
   "metadata": {},
   "source": [
    "#### Valitaan analyysin kannalta oleellisimmat sarakkeet."
   ]
  },
  {
   "cell_type": "code",
   "execution_count": 64,
   "metadata": {},
   "outputs": [
    {
     "data": {
      "text/html": [
       "<div>\n",
       "<style scoped>\n",
       "    .dataframe tbody tr th:only-of-type {\n",
       "        vertical-align: middle;\n",
       "    }\n",
       "\n",
       "    .dataframe tbody tr th {\n",
       "        vertical-align: top;\n",
       "    }\n",
       "\n",
       "    .dataframe thead th {\n",
       "        text-align: right;\n",
       "    }\n",
       "</style>\n",
       "<table border=\"1\" class=\"dataframe\">\n",
       "  <thead>\n",
       "    <tr style=\"text-align: right;\">\n",
       "      <th></th>\n",
       "      <th>latitude</th>\n",
       "      <th>longitude</th>\n",
       "      <th>room_type</th>\n",
       "      <th>accommodates</th>\n",
       "      <th>bedrooms</th>\n",
       "      <th>beds</th>\n",
       "      <th>price</th>\n",
       "      <th>minimum_nights</th>\n",
       "      <th>availability_30</th>\n",
       "      <th>number_of_reviews</th>\n",
       "      <th>review_scores_rating</th>\n",
       "      <th>reviews_per_month</th>\n",
       "    </tr>\n",
       "  </thead>\n",
       "  <tbody>\n",
       "    <tr>\n",
       "      <td>0</td>\n",
       "      <td>51.56802</td>\n",
       "      <td>-0.11121</td>\n",
       "      <td>Private room</td>\n",
       "      <td>2</td>\n",
       "      <td>1.0</td>\n",
       "      <td>0.0</td>\n",
       "      <td>$65.00</td>\n",
       "      <td>1</td>\n",
       "      <td>23</td>\n",
       "      <td>21</td>\n",
       "      <td>97.0</td>\n",
       "      <td>0.18</td>\n",
       "    </tr>\n",
       "    <tr>\n",
       "      <td>1</td>\n",
       "      <td>51.48796</td>\n",
       "      <td>-0.16898</td>\n",
       "      <td>Entire home/apt</td>\n",
       "      <td>2</td>\n",
       "      <td>1.0</td>\n",
       "      <td>1.0</td>\n",
       "      <td>$100.00</td>\n",
       "      <td>10</td>\n",
       "      <td>6</td>\n",
       "      <td>88</td>\n",
       "      <td>96.0</td>\n",
       "      <td>0.71</td>\n",
       "    </tr>\n",
       "    <tr>\n",
       "      <td>2</td>\n",
       "      <td>51.52195</td>\n",
       "      <td>-0.14094</td>\n",
       "      <td>Entire home/apt</td>\n",
       "      <td>6</td>\n",
       "      <td>3.0</td>\n",
       "      <td>3.0</td>\n",
       "      <td>$300.00</td>\n",
       "      <td>3</td>\n",
       "      <td>26</td>\n",
       "      <td>42</td>\n",
       "      <td>94.0</td>\n",
       "      <td>0.38</td>\n",
       "    </tr>\n",
       "    <tr>\n",
       "      <td>3</td>\n",
       "      <td>51.47935</td>\n",
       "      <td>-0.19743</td>\n",
       "      <td>Private room</td>\n",
       "      <td>2</td>\n",
       "      <td>1.0</td>\n",
       "      <td>1.0</td>\n",
       "      <td>$150.00</td>\n",
       "      <td>3</td>\n",
       "      <td>29</td>\n",
       "      <td>0</td>\n",
       "      <td>NaN</td>\n",
       "      <td>NaN</td>\n",
       "    </tr>\n",
       "    <tr>\n",
       "      <td>4</td>\n",
       "      <td>51.44687</td>\n",
       "      <td>-0.21874</td>\n",
       "      <td>Entire home/apt</td>\n",
       "      <td>4</td>\n",
       "      <td>2.0</td>\n",
       "      <td>2.0</td>\n",
       "      <td>$65.00</td>\n",
       "      <td>21</td>\n",
       "      <td>7</td>\n",
       "      <td>34</td>\n",
       "      <td>93.0</td>\n",
       "      <td>0.69</td>\n",
       "    </tr>\n",
       "    <tr>\n",
       "      <td>...</td>\n",
       "      <td>...</td>\n",
       "      <td>...</td>\n",
       "      <td>...</td>\n",
       "      <td>...</td>\n",
       "      <td>...</td>\n",
       "      <td>...</td>\n",
       "      <td>...</td>\n",
       "      <td>...</td>\n",
       "      <td>...</td>\n",
       "      <td>...</td>\n",
       "      <td>...</td>\n",
       "      <td>...</td>\n",
       "    </tr>\n",
       "    <tr>\n",
       "      <td>88124</td>\n",
       "      <td>51.65118</td>\n",
       "      <td>-0.19511</td>\n",
       "      <td>Private room</td>\n",
       "      <td>3</td>\n",
       "      <td>3.0</td>\n",
       "      <td>3.0</td>\n",
       "      <td>$40.00</td>\n",
       "      <td>1</td>\n",
       "      <td>23</td>\n",
       "      <td>0</td>\n",
       "      <td>NaN</td>\n",
       "      <td>NaN</td>\n",
       "    </tr>\n",
       "    <tr>\n",
       "      <td>88125</td>\n",
       "      <td>51.48843</td>\n",
       "      <td>0.05332</td>\n",
       "      <td>Entire home/apt</td>\n",
       "      <td>6</td>\n",
       "      <td>0.0</td>\n",
       "      <td>3.0</td>\n",
       "      <td>$86.00</td>\n",
       "      <td>2</td>\n",
       "      <td>23</td>\n",
       "      <td>0</td>\n",
       "      <td>NaN</td>\n",
       "      <td>NaN</td>\n",
       "    </tr>\n",
       "    <tr>\n",
       "      <td>88126</td>\n",
       "      <td>51.53211</td>\n",
       "      <td>-0.21826</td>\n",
       "      <td>Private room</td>\n",
       "      <td>4</td>\n",
       "      <td>1.0</td>\n",
       "      <td>0.0</td>\n",
       "      <td>$65.00</td>\n",
       "      <td>1</td>\n",
       "      <td>23</td>\n",
       "      <td>0</td>\n",
       "      <td>NaN</td>\n",
       "      <td>NaN</td>\n",
       "    </tr>\n",
       "    <tr>\n",
       "      <td>88127</td>\n",
       "      <td>51.55715</td>\n",
       "      <td>-0.06898</td>\n",
       "      <td>Entire home/apt</td>\n",
       "      <td>4</td>\n",
       "      <td>1.0</td>\n",
       "      <td>1.0</td>\n",
       "      <td>$100.00</td>\n",
       "      <td>21</td>\n",
       "      <td>0</td>\n",
       "      <td>0</td>\n",
       "      <td>NaN</td>\n",
       "      <td>NaN</td>\n",
       "    </tr>\n",
       "    <tr>\n",
       "      <td>88128</td>\n",
       "      <td>51.47968</td>\n",
       "      <td>-0.10030</td>\n",
       "      <td>Private room</td>\n",
       "      <td>2</td>\n",
       "      <td>1.0</td>\n",
       "      <td>1.0</td>\n",
       "      <td>$59.00</td>\n",
       "      <td>1</td>\n",
       "      <td>30</td>\n",
       "      <td>0</td>\n",
       "      <td>NaN</td>\n",
       "      <td>NaN</td>\n",
       "    </tr>\n",
       "  </tbody>\n",
       "</table>\n",
       "<p>88129 rows × 12 columns</p>\n",
       "</div>"
      ],
      "text/plain": [
       "       latitude  longitude        room_type  accommodates  bedrooms  beds  \\\n",
       "0      51.56802   -0.11121     Private room             2       1.0   0.0   \n",
       "1      51.48796   -0.16898  Entire home/apt             2       1.0   1.0   \n",
       "2      51.52195   -0.14094  Entire home/apt             6       3.0   3.0   \n",
       "3      51.47935   -0.19743     Private room             2       1.0   1.0   \n",
       "4      51.44687   -0.21874  Entire home/apt             4       2.0   2.0   \n",
       "...         ...        ...              ...           ...       ...   ...   \n",
       "88124  51.65118   -0.19511     Private room             3       3.0   3.0   \n",
       "88125  51.48843    0.05332  Entire home/apt             6       0.0   3.0   \n",
       "88126  51.53211   -0.21826     Private room             4       1.0   0.0   \n",
       "88127  51.55715   -0.06898  Entire home/apt             4       1.0   1.0   \n",
       "88128  51.47968   -0.10030     Private room             2       1.0   1.0   \n",
       "\n",
       "         price  minimum_nights  availability_30  number_of_reviews  \\\n",
       "0       $65.00               1               23                 21   \n",
       "1      $100.00              10                6                 88   \n",
       "2      $300.00               3               26                 42   \n",
       "3      $150.00               3               29                  0   \n",
       "4       $65.00              21                7                 34   \n",
       "...        ...             ...              ...                ...   \n",
       "88124   $40.00               1               23                  0   \n",
       "88125   $86.00               2               23                  0   \n",
       "88126   $65.00               1               23                  0   \n",
       "88127  $100.00              21                0                  0   \n",
       "88128   $59.00               1               30                  0   \n",
       "\n",
       "       review_scores_rating  reviews_per_month  \n",
       "0                      97.0               0.18  \n",
       "1                      96.0               0.71  \n",
       "2                      94.0               0.38  \n",
       "3                       NaN                NaN  \n",
       "4                      93.0               0.69  \n",
       "...                     ...                ...  \n",
       "88124                   NaN                NaN  \n",
       "88125                   NaN                NaN  \n",
       "88126                   NaN                NaN  \n",
       "88127                   NaN                NaN  \n",
       "88128                   NaN                NaN  \n",
       "\n",
       "[88129 rows x 12 columns]"
      ]
     },
     "execution_count": 64,
     "metadata": {},
     "output_type": "execute_result"
    }
   ],
   "source": [
    "sarakkeet = ['price',\n",
    "        'accommodates',\n",
    "        'bedrooms',\n",
    "        'beds',\n",
    "        'room_type',\n",
    "        'minimum_nights',\n",
    "        'latitude',\n",
    "        'longitude',\n",
    "        'reviews_per_month',\n",
    "        'number_of_reviews',\n",
    "        'availability_30',\n",
    "        'review_scores_rating'\n",
    "        ]\n",
    "df = pd.read_csv(LONDON, usecols=sarakkeet)\n",
    "df"
   ]
  },
  {
   "cell_type": "markdown",
   "metadata": {},
   "source": [
    "#### Tarkistetaan haluttujen sarakkeiden datatyyppit"
   ]
  },
  {
   "cell_type": "code",
   "execution_count": 65,
   "metadata": {},
   "outputs": [
    {
     "data": {
      "text/plain": [
       "latitude                float64\n",
       "longitude               float64\n",
       "room_type                object\n",
       "accommodates              int64\n",
       "bedrooms                float64\n",
       "beds                    float64\n",
       "price                    object\n",
       "minimum_nights            int64\n",
       "availability_30           int64\n",
       "number_of_reviews         int64\n",
       "review_scores_rating    float64\n",
       "reviews_per_month       float64\n",
       "dtype: object"
      ]
     },
     "execution_count": 65,
     "metadata": {},
     "output_type": "execute_result"
    }
   ],
   "source": [
    "df.dtypes"
   ]
  },
  {
   "cell_type": "markdown",
   "metadata": {},
   "source": [
    "* Huomataan, että \"price\" eli hinta on object-tyyppiä sekä sieltä löytyy dollarin merkkejä. Näin ollen halutaan poistaa merkit sekä muuttaa hinnan datatyyppiä."
   ]
  },
  {
   "cell_type": "code",
   "execution_count": 66,
   "metadata": {},
   "outputs": [
    {
     "name": "stdout",
     "output_type": "stream",
     "text": [
      "0     65.0\n",
      "1    100.0\n",
      "2    300.0\n",
      "3    150.0\n",
      "4     65.0\n",
      "Name: price, dtype: float64\n"
     ]
    }
   ],
   "source": [
    "df['price'] = df['price'].replace('[\\$,)]','', regex=True).replace('[(]','-', regex=True).astype(float)\n",
    "print(df.price.head(5))"
   ]
  },
  {
   "cell_type": "markdown",
   "metadata": {},
   "source": [
    "* Poistetaan kaikki rivit, joissa on NaN arvoja. Näin saadaan n. 30000 riviä poistettua."
   ]
  },
  {
   "cell_type": "code",
   "execution_count": 67,
   "metadata": {},
   "outputs": [
    {
     "data": {
      "text/plain": [
       "(59173, 12)"
      ]
     },
     "execution_count": 67,
     "metadata": {},
     "output_type": "execute_result"
    }
   ],
   "source": [
    "df = df[df.bedrooms != 0]\n",
    "df = df[df.beds != 0]\n",
    "df = df[df.price != 0]\n",
    "\n",
    "# Tämä tehdään, koska niitä ei ole, jos number_of_reviews on 0\n",
    "df['reviews_per_month'].fillna(0, inplace=True)\n",
    "df = df.dropna(axis=0)\n",
    "df.shape"
   ]
  },
  {
   "cell_type": "markdown",
   "metadata": {},
   "source": [
    "#### Seuraavaksi teemme kategorisista muuttujista dummies muuttujia, jotta niiden analysoiminen onnistuu paremmin.\n",
    "* Valituista muuttujista ainoataan room_type on sellainen, jonka muuttaminen on järkevää"
   ]
  },
  {
   "cell_type": "code",
   "execution_count": 68,
   "metadata": {},
   "outputs": [
    {
     "data": {
      "text/html": [
       "<div>\n",
       "<style scoped>\n",
       "    .dataframe tbody tr th:only-of-type {\n",
       "        vertical-align: middle;\n",
       "    }\n",
       "\n",
       "    .dataframe tbody tr th {\n",
       "        vertical-align: top;\n",
       "    }\n",
       "\n",
       "    .dataframe thead th {\n",
       "        text-align: right;\n",
       "    }\n",
       "</style>\n",
       "<table border=\"1\" class=\"dataframe\">\n",
       "  <thead>\n",
       "    <tr style=\"text-align: right;\">\n",
       "      <th></th>\n",
       "      <th>latitude</th>\n",
       "      <th>longitude</th>\n",
       "      <th>accommodates</th>\n",
       "      <th>bedrooms</th>\n",
       "      <th>beds</th>\n",
       "      <th>price</th>\n",
       "      <th>minimum_nights</th>\n",
       "      <th>availability_30</th>\n",
       "      <th>number_of_reviews</th>\n",
       "      <th>review_scores_rating</th>\n",
       "      <th>reviews_per_month</th>\n",
       "      <th>Entire home/apt</th>\n",
       "      <th>Hotel room</th>\n",
       "      <th>Private room</th>\n",
       "      <th>Shared room</th>\n",
       "    </tr>\n",
       "  </thead>\n",
       "  <tbody>\n",
       "    <tr>\n",
       "      <td>1</td>\n",
       "      <td>51.48796</td>\n",
       "      <td>-0.16898</td>\n",
       "      <td>2</td>\n",
       "      <td>1.0</td>\n",
       "      <td>1.0</td>\n",
       "      <td>100.0</td>\n",
       "      <td>10</td>\n",
       "      <td>6</td>\n",
       "      <td>88</td>\n",
       "      <td>96.0</td>\n",
       "      <td>0.71</td>\n",
       "      <td>1</td>\n",
       "      <td>0</td>\n",
       "      <td>0</td>\n",
       "      <td>0</td>\n",
       "    </tr>\n",
       "    <tr>\n",
       "      <td>2</td>\n",
       "      <td>51.52195</td>\n",
       "      <td>-0.14094</td>\n",
       "      <td>6</td>\n",
       "      <td>3.0</td>\n",
       "      <td>3.0</td>\n",
       "      <td>300.0</td>\n",
       "      <td>3</td>\n",
       "      <td>26</td>\n",
       "      <td>42</td>\n",
       "      <td>94.0</td>\n",
       "      <td>0.38</td>\n",
       "      <td>1</td>\n",
       "      <td>0</td>\n",
       "      <td>0</td>\n",
       "      <td>0</td>\n",
       "    </tr>\n",
       "    <tr>\n",
       "      <td>4</td>\n",
       "      <td>51.44687</td>\n",
       "      <td>-0.21874</td>\n",
       "      <td>4</td>\n",
       "      <td>2.0</td>\n",
       "      <td>2.0</td>\n",
       "      <td>65.0</td>\n",
       "      <td>21</td>\n",
       "      <td>7</td>\n",
       "      <td>34</td>\n",
       "      <td>93.0</td>\n",
       "      <td>0.69</td>\n",
       "      <td>1</td>\n",
       "      <td>0</td>\n",
       "      <td>0</td>\n",
       "      <td>0</td>\n",
       "    </tr>\n",
       "    <tr>\n",
       "      <td>6</td>\n",
       "      <td>51.46507</td>\n",
       "      <td>-0.32421</td>\n",
       "      <td>2</td>\n",
       "      <td>1.0</td>\n",
       "      <td>1.0</td>\n",
       "      <td>100.0</td>\n",
       "      <td>1</td>\n",
       "      <td>29</td>\n",
       "      <td>6</td>\n",
       "      <td>90.0</td>\n",
       "      <td>0.05</td>\n",
       "      <td>0</td>\n",
       "      <td>0</td>\n",
       "      <td>1</td>\n",
       "      <td>0</td>\n",
       "    </tr>\n",
       "    <tr>\n",
       "      <td>7</td>\n",
       "      <td>51.47934</td>\n",
       "      <td>-0.28066</td>\n",
       "      <td>5</td>\n",
       "      <td>3.0</td>\n",
       "      <td>3.0</td>\n",
       "      <td>195.0</td>\n",
       "      <td>3</td>\n",
       "      <td>6</td>\n",
       "      <td>77</td>\n",
       "      <td>97.0</td>\n",
       "      <td>0.67</td>\n",
       "      <td>1</td>\n",
       "      <td>0</td>\n",
       "      <td>0</td>\n",
       "      <td>0</td>\n",
       "    </tr>\n",
       "  </tbody>\n",
       "</table>\n",
       "</div>"
      ],
      "text/plain": [
       "   latitude  longitude  accommodates  bedrooms  beds  price  minimum_nights  \\\n",
       "1  51.48796   -0.16898             2       1.0   1.0  100.0              10   \n",
       "2  51.52195   -0.14094             6       3.0   3.0  300.0               3   \n",
       "4  51.44687   -0.21874             4       2.0   2.0   65.0              21   \n",
       "6  51.46507   -0.32421             2       1.0   1.0  100.0               1   \n",
       "7  51.47934   -0.28066             5       3.0   3.0  195.0               3   \n",
       "\n",
       "   availability_30  number_of_reviews  review_scores_rating  \\\n",
       "1                6                 88                  96.0   \n",
       "2               26                 42                  94.0   \n",
       "4                7                 34                  93.0   \n",
       "6               29                  6                  90.0   \n",
       "7                6                 77                  97.0   \n",
       "\n",
       "   reviews_per_month  Entire home/apt  Hotel room  Private room  Shared room  \n",
       "1               0.71                1           0             0            0  \n",
       "2               0.38                1           0             0            0  \n",
       "4               0.69                1           0             0            0  \n",
       "6               0.05                0           0             1            0  \n",
       "7               0.67                1           0             0            0  "
      ]
     },
     "execution_count": 68,
     "metadata": {},
     "output_type": "execute_result"
    }
   ],
   "source": [
    "rt_dummies = pd.get_dummies(df.room_type)\n",
    "\n",
    "alldata = pd.concat((df.drop(['room_type'], axis=1), rt_dummies.astype(int)), axis=1)\n",
    "alldata.head(5)"
   ]
  },
  {
   "cell_type": "markdown",
   "metadata": {},
   "source": [
    "#### Seuraavaksi lisäämme dataan uuden sarakkeen eli etäisyys lontoon keskustasta. Tällä tavalla rikastetaan dataa\n",
    "* Tämä myös järkevöittää leveys- ja piituuspiirien vertailua eli asunnon sijainnin vertailua Lontoon alueella"
   ]
  },
  {
   "cell_type": "code",
   "execution_count": 69,
   "metadata": {},
   "outputs": [],
   "source": [
    "etäisyys_lista = []\n",
    "for i in range(len(alldata)):\n",
    "    latitude_london = 51.507222\n",
    "    longitude_london = -0.1275\n",
    "    etäisyys = np.sqrt(np.square(alldata.latitude.iloc[i] - latitude_london) + \n",
    "                  np.square(alldata.longitude.iloc[i] - longitude_london))\n",
    "    etäisyys_lista.append(etäisyys)\n",
    "\n",
    "alldata['distance_to_center'] = etäisyys_lista\n"
   ]
  },
  {
   "cell_type": "code",
   "execution_count": 70,
   "metadata": {},
   "outputs": [
    {
     "data": {
      "text/html": [
       "<div>\n",
       "<style scoped>\n",
       "    .dataframe tbody tr th:only-of-type {\n",
       "        vertical-align: middle;\n",
       "    }\n",
       "\n",
       "    .dataframe tbody tr th {\n",
       "        vertical-align: top;\n",
       "    }\n",
       "\n",
       "    .dataframe thead th {\n",
       "        text-align: right;\n",
       "    }\n",
       "</style>\n",
       "<table border=\"1\" class=\"dataframe\">\n",
       "  <thead>\n",
       "    <tr style=\"text-align: right;\">\n",
       "      <th></th>\n",
       "      <th>latitude</th>\n",
       "      <th>longitude</th>\n",
       "      <th>accommodates</th>\n",
       "      <th>bedrooms</th>\n",
       "      <th>beds</th>\n",
       "      <th>price</th>\n",
       "      <th>minimum_nights</th>\n",
       "      <th>availability_30</th>\n",
       "      <th>number_of_reviews</th>\n",
       "      <th>review_scores_rating</th>\n",
       "      <th>reviews_per_month</th>\n",
       "      <th>Entire home/apt</th>\n",
       "      <th>Hotel room</th>\n",
       "      <th>Private room</th>\n",
       "      <th>Shared room</th>\n",
       "      <th>distance_to_center</th>\n",
       "    </tr>\n",
       "  </thead>\n",
       "  <tbody>\n",
       "    <tr>\n",
       "      <td>1</td>\n",
       "      <td>51.48796</td>\n",
       "      <td>-0.16898</td>\n",
       "      <td>2</td>\n",
       "      <td>1.0</td>\n",
       "      <td>1.0</td>\n",
       "      <td>100.0</td>\n",
       "      <td>10</td>\n",
       "      <td>6</td>\n",
       "      <td>88</td>\n",
       "      <td>96.0</td>\n",
       "      <td>0.71</td>\n",
       "      <td>1</td>\n",
       "      <td>0</td>\n",
       "      <td>0</td>\n",
       "      <td>0</td>\n",
       "      <td>0.045734</td>\n",
       "    </tr>\n",
       "    <tr>\n",
       "      <td>2</td>\n",
       "      <td>51.52195</td>\n",
       "      <td>-0.14094</td>\n",
       "      <td>6</td>\n",
       "      <td>3.0</td>\n",
       "      <td>3.0</td>\n",
       "      <td>300.0</td>\n",
       "      <td>3</td>\n",
       "      <td>26</td>\n",
       "      <td>42</td>\n",
       "      <td>94.0</td>\n",
       "      <td>0.38</td>\n",
       "      <td>1</td>\n",
       "      <td>0</td>\n",
       "      <td>0</td>\n",
       "      <td>0</td>\n",
       "      <td>0.019939</td>\n",
       "    </tr>\n",
       "    <tr>\n",
       "      <td>4</td>\n",
       "      <td>51.44687</td>\n",
       "      <td>-0.21874</td>\n",
       "      <td>4</td>\n",
       "      <td>2.0</td>\n",
       "      <td>2.0</td>\n",
       "      <td>65.0</td>\n",
       "      <td>21</td>\n",
       "      <td>7</td>\n",
       "      <td>34</td>\n",
       "      <td>93.0</td>\n",
       "      <td>0.69</td>\n",
       "      <td>1</td>\n",
       "      <td>0</td>\n",
       "      <td>0</td>\n",
       "      <td>0</td>\n",
       "      <td>0.109394</td>\n",
       "    </tr>\n",
       "    <tr>\n",
       "      <td>6</td>\n",
       "      <td>51.46507</td>\n",
       "      <td>-0.32421</td>\n",
       "      <td>2</td>\n",
       "      <td>1.0</td>\n",
       "      <td>1.0</td>\n",
       "      <td>100.0</td>\n",
       "      <td>1</td>\n",
       "      <td>29</td>\n",
       "      <td>6</td>\n",
       "      <td>90.0</td>\n",
       "      <td>0.05</td>\n",
       "      <td>0</td>\n",
       "      <td>0</td>\n",
       "      <td>1</td>\n",
       "      <td>0</td>\n",
       "      <td>0.201176</td>\n",
       "    </tr>\n",
       "    <tr>\n",
       "      <td>7</td>\n",
       "      <td>51.47934</td>\n",
       "      <td>-0.28066</td>\n",
       "      <td>5</td>\n",
       "      <td>3.0</td>\n",
       "      <td>3.0</td>\n",
       "      <td>195.0</td>\n",
       "      <td>3</td>\n",
       "      <td>6</td>\n",
       "      <td>77</td>\n",
       "      <td>97.0</td>\n",
       "      <td>0.67</td>\n",
       "      <td>1</td>\n",
       "      <td>0</td>\n",
       "      <td>0</td>\n",
       "      <td>0</td>\n",
       "      <td>0.155677</td>\n",
       "    </tr>\n",
       "  </tbody>\n",
       "</table>\n",
       "</div>"
      ],
      "text/plain": [
       "   latitude  longitude  accommodates  bedrooms  beds  price  minimum_nights  \\\n",
       "1  51.48796   -0.16898             2       1.0   1.0  100.0              10   \n",
       "2  51.52195   -0.14094             6       3.0   3.0  300.0               3   \n",
       "4  51.44687   -0.21874             4       2.0   2.0   65.0              21   \n",
       "6  51.46507   -0.32421             2       1.0   1.0  100.0               1   \n",
       "7  51.47934   -0.28066             5       3.0   3.0  195.0               3   \n",
       "\n",
       "   availability_30  number_of_reviews  review_scores_rating  \\\n",
       "1                6                 88                  96.0   \n",
       "2               26                 42                  94.0   \n",
       "4                7                 34                  93.0   \n",
       "6               29                  6                  90.0   \n",
       "7                6                 77                  97.0   \n",
       "\n",
       "   reviews_per_month  Entire home/apt  Hotel room  Private room  Shared room  \\\n",
       "1               0.71                1           0             0            0   \n",
       "2               0.38                1           0             0            0   \n",
       "4               0.69                1           0             0            0   \n",
       "6               0.05                0           0             1            0   \n",
       "7               0.67                1           0             0            0   \n",
       "\n",
       "   distance_to_center  \n",
       "1            0.045734  \n",
       "2            0.019939  \n",
       "4            0.109394  \n",
       "6            0.201176  \n",
       "7            0.155677  "
      ]
     },
     "execution_count": 70,
     "metadata": {},
     "output_type": "execute_result"
    }
   ],
   "source": [
    "alldata.head(5)"
   ]
  },
  {
   "cell_type": "markdown",
   "metadata": {},
   "source": [
    "#### Seuraavaksi otamme käsittelyyn Starbuck ravintoloiden sijainnit ja rikastamme dataa silläkin. \n",
    "* Tarkoituksena on saada selville, että onko Starbuckin läheisyydellä merkitystä hinnan muodostumisen kannalta"
   ]
  },
  {
   "cell_type": "code",
   "execution_count": 71,
   "metadata": {},
   "outputs": [
    {
     "data": {
      "text/html": [
       "<div>\n",
       "<style scoped>\n",
       "    .dataframe tbody tr th:only-of-type {\n",
       "        vertical-align: middle;\n",
       "    }\n",
       "\n",
       "    .dataframe tbody tr th {\n",
       "        vertical-align: top;\n",
       "    }\n",
       "\n",
       "    .dataframe thead th {\n",
       "        text-align: right;\n",
       "    }\n",
       "</style>\n",
       "<table border=\"1\" class=\"dataframe\">\n",
       "  <thead>\n",
       "    <tr style=\"text-align: right;\">\n",
       "      <th></th>\n",
       "      <th>Brand</th>\n",
       "      <th>Store Number</th>\n",
       "      <th>Store Name</th>\n",
       "      <th>Ownership Type</th>\n",
       "      <th>Street Address</th>\n",
       "      <th>City</th>\n",
       "      <th>State/Province</th>\n",
       "      <th>Country</th>\n",
       "      <th>Postcode</th>\n",
       "      <th>Phone Number</th>\n",
       "      <th>Timezone</th>\n",
       "      <th>Longitude</th>\n",
       "      <th>Latitude</th>\n",
       "    </tr>\n",
       "  </thead>\n",
       "  <tbody>\n",
       "    <tr>\n",
       "      <td>0</td>\n",
       "      <td>Starbucks</td>\n",
       "      <td>47370-257954</td>\n",
       "      <td>Meritxell, 96</td>\n",
       "      <td>Licensed</td>\n",
       "      <td>Av. Meritxell, 96</td>\n",
       "      <td>Andorra la Vella</td>\n",
       "      <td>7</td>\n",
       "      <td>AD</td>\n",
       "      <td>AD500</td>\n",
       "      <td>376818720</td>\n",
       "      <td>GMT+1:00 Europe/Andorra</td>\n",
       "      <td>1.53</td>\n",
       "      <td>42.51</td>\n",
       "    </tr>\n",
       "    <tr>\n",
       "      <td>1</td>\n",
       "      <td>Starbucks</td>\n",
       "      <td>22331-212325</td>\n",
       "      <td>Ajman Drive Thru</td>\n",
       "      <td>Licensed</td>\n",
       "      <td>1 Street 69, Al Jarf</td>\n",
       "      <td>Ajman</td>\n",
       "      <td>AJ</td>\n",
       "      <td>AE</td>\n",
       "      <td>NaN</td>\n",
       "      <td>NaN</td>\n",
       "      <td>GMT+04:00 Asia/Dubai</td>\n",
       "      <td>55.47</td>\n",
       "      <td>25.42</td>\n",
       "    </tr>\n",
       "    <tr>\n",
       "      <td>2</td>\n",
       "      <td>Starbucks</td>\n",
       "      <td>47089-256771</td>\n",
       "      <td>Dana Mall</td>\n",
       "      <td>Licensed</td>\n",
       "      <td>Sheikh Khalifa Bin Zayed St.</td>\n",
       "      <td>Ajman</td>\n",
       "      <td>AJ</td>\n",
       "      <td>AE</td>\n",
       "      <td>NaN</td>\n",
       "      <td>NaN</td>\n",
       "      <td>GMT+04:00 Asia/Dubai</td>\n",
       "      <td>55.47</td>\n",
       "      <td>25.39</td>\n",
       "    </tr>\n",
       "    <tr>\n",
       "      <td>3</td>\n",
       "      <td>Starbucks</td>\n",
       "      <td>22126-218024</td>\n",
       "      <td>Twofour 54</td>\n",
       "      <td>Licensed</td>\n",
       "      <td>Al Salam Street</td>\n",
       "      <td>Abu Dhabi</td>\n",
       "      <td>AZ</td>\n",
       "      <td>AE</td>\n",
       "      <td>NaN</td>\n",
       "      <td>NaN</td>\n",
       "      <td>GMT+04:00 Asia/Dubai</td>\n",
       "      <td>54.38</td>\n",
       "      <td>24.48</td>\n",
       "    </tr>\n",
       "    <tr>\n",
       "      <td>4</td>\n",
       "      <td>Starbucks</td>\n",
       "      <td>17127-178586</td>\n",
       "      <td>Al Ain Tower</td>\n",
       "      <td>Licensed</td>\n",
       "      <td>Khaldiya Area, Abu Dhabi Island</td>\n",
       "      <td>Abu Dhabi</td>\n",
       "      <td>AZ</td>\n",
       "      <td>AE</td>\n",
       "      <td>NaN</td>\n",
       "      <td>NaN</td>\n",
       "      <td>GMT+04:00 Asia/Dubai</td>\n",
       "      <td>54.54</td>\n",
       "      <td>24.51</td>\n",
       "    </tr>\n",
       "  </tbody>\n",
       "</table>\n",
       "</div>"
      ],
      "text/plain": [
       "       Brand  Store Number        Store Name Ownership Type  \\\n",
       "0  Starbucks  47370-257954     Meritxell, 96       Licensed   \n",
       "1  Starbucks  22331-212325  Ajman Drive Thru       Licensed   \n",
       "2  Starbucks  47089-256771         Dana Mall       Licensed   \n",
       "3  Starbucks  22126-218024        Twofour 54       Licensed   \n",
       "4  Starbucks  17127-178586      Al Ain Tower       Licensed   \n",
       "\n",
       "                    Street Address              City State/Province Country  \\\n",
       "0                Av. Meritxell, 96  Andorra la Vella              7      AD   \n",
       "1             1 Street 69, Al Jarf             Ajman             AJ      AE   \n",
       "2     Sheikh Khalifa Bin Zayed St.             Ajman             AJ      AE   \n",
       "3                  Al Salam Street         Abu Dhabi             AZ      AE   \n",
       "4  Khaldiya Area, Abu Dhabi Island         Abu Dhabi             AZ      AE   \n",
       "\n",
       "  Postcode Phone Number                 Timezone  Longitude  Latitude  \n",
       "0    AD500    376818720  GMT+1:00 Europe/Andorra       1.53     42.51  \n",
       "1      NaN          NaN     GMT+04:00 Asia/Dubai      55.47     25.42  \n",
       "2      NaN          NaN     GMT+04:00 Asia/Dubai      55.47     25.39  \n",
       "3      NaN          NaN     GMT+04:00 Asia/Dubai      54.38     24.48  \n",
       "4      NaN          NaN     GMT+04:00 Asia/Dubai      54.54     24.51  "
      ]
     },
     "execution_count": 71,
     "metadata": {},
     "output_type": "execute_result"
    }
   ],
   "source": [
    "STARBUCKS = 'starbuck.csv'\n",
    "starbucks_df = pd.read_csv(STARBUCKS)\n",
    "starbucks_df.head()"
   ]
  },
  {
   "cell_type": "markdown",
   "metadata": {},
   "source": [
    "#### Datasta täytyy siivota ja järjestellä eli poistetaan tyhjät ja otetaan ainoastaan Britannian Lontoon tiedot"
   ]
  },
  {
   "cell_type": "code",
   "execution_count": 72,
   "metadata": {},
   "outputs": [
    {
     "data": {
      "text/html": [
       "<div>\n",
       "<style scoped>\n",
       "    .dataframe tbody tr th:only-of-type {\n",
       "        vertical-align: middle;\n",
       "    }\n",
       "\n",
       "    .dataframe tbody tr th {\n",
       "        vertical-align: top;\n",
       "    }\n",
       "\n",
       "    .dataframe thead th {\n",
       "        text-align: right;\n",
       "    }\n",
       "</style>\n",
       "<table border=\"1\" class=\"dataframe\">\n",
       "  <thead>\n",
       "    <tr style=\"text-align: right;\">\n",
       "      <th></th>\n",
       "      <th>Brand</th>\n",
       "      <th>Store Number</th>\n",
       "      <th>Store Name</th>\n",
       "      <th>Ownership Type</th>\n",
       "      <th>Street Address</th>\n",
       "      <th>City</th>\n",
       "      <th>State/Province</th>\n",
       "      <th>Country</th>\n",
       "      <th>Postcode</th>\n",
       "      <th>Phone Number</th>\n",
       "      <th>Timezone</th>\n",
       "      <th>Longitude</th>\n",
       "      <th>Latitude</th>\n",
       "    </tr>\n",
       "  </thead>\n",
       "  <tbody>\n",
       "    <tr>\n",
       "      <td>5642</td>\n",
       "      <td>Starbucks</td>\n",
       "      <td>12929-137795</td>\n",
       "      <td>Clapham - St. John's Road</td>\n",
       "      <td>Company Owned</td>\n",
       "      <td>37-39 St. John's Road, Brixton Underground Sta...</td>\n",
       "      <td>London</td>\n",
       "      <td>ENG</td>\n",
       "      <td>GB</td>\n",
       "      <td>SW11 1QN</td>\n",
       "      <td>2079244670</td>\n",
       "      <td>GMT+0:00 Europe/London</td>\n",
       "      <td>-0.17</td>\n",
       "      <td>51.46</td>\n",
       "    </tr>\n",
       "    <tr>\n",
       "      <td>5643</td>\n",
       "      <td>Starbucks</td>\n",
       "      <td>7013-150064</td>\n",
       "      <td>Brixton Station</td>\n",
       "      <td>Company Owned</td>\n",
       "      <td>Shop 5, Brixton Underground Station</td>\n",
       "      <td>London</td>\n",
       "      <td>ENG</td>\n",
       "      <td>GB</td>\n",
       "      <td>SW9</td>\n",
       "      <td>2072747979</td>\n",
       "      <td>GMT+0:00 Europe/London</td>\n",
       "      <td>-0.11</td>\n",
       "      <td>51.46</td>\n",
       "    </tr>\n",
       "    <tr>\n",
       "      <td>5644</td>\n",
       "      <td>Starbucks</td>\n",
       "      <td>14945-154366</td>\n",
       "      <td>Stansted Airport DT</td>\n",
       "      <td>Franchise</td>\n",
       "      <td>A120 Thermal Lane, London Stansted Airport</td>\n",
       "      <td>London</td>\n",
       "      <td>ENG</td>\n",
       "      <td>GB</td>\n",
       "      <td>CM24 1PY</td>\n",
       "      <td>01279 680361</td>\n",
       "      <td>GMT+0:00 Europe/London</td>\n",
       "      <td>0.25</td>\n",
       "      <td>51.88</td>\n",
       "    </tr>\n",
       "    <tr>\n",
       "      <td>5645</td>\n",
       "      <td>Starbucks</td>\n",
       "      <td>12949-140506</td>\n",
       "      <td>Juxon House - St. Pauls Church Yard</td>\n",
       "      <td>Company Owned</td>\n",
       "      <td>St. Paul's Church Yard, Juxon House, Unit 2, R...</td>\n",
       "      <td>London</td>\n",
       "      <td>ENG</td>\n",
       "      <td>GB</td>\n",
       "      <td>EC4M 8EH</td>\n",
       "      <td>2072480359</td>\n",
       "      <td>GMT+0:00 Europe/London</td>\n",
       "      <td>-0.10</td>\n",
       "      <td>51.51</td>\n",
       "    </tr>\n",
       "    <tr>\n",
       "      <td>5646</td>\n",
       "      <td>Starbucks</td>\n",
       "      <td>12600-98209</td>\n",
       "      <td>Pentonville Road</td>\n",
       "      <td>Company Owned</td>\n",
       "      <td>296 Pentoville Road, Regents Corner, London - ...</td>\n",
       "      <td>London</td>\n",
       "      <td>ENG</td>\n",
       "      <td>GB</td>\n",
       "      <td>N1 9NR</td>\n",
       "      <td>2078121073</td>\n",
       "      <td>GMT+0:00 Europe/London</td>\n",
       "      <td>-0.12</td>\n",
       "      <td>51.53</td>\n",
       "    </tr>\n",
       "  </tbody>\n",
       "</table>\n",
       "</div>"
      ],
      "text/plain": [
       "          Brand  Store Number                           Store Name  \\\n",
       "5642  Starbucks  12929-137795            Clapham - St. John's Road   \n",
       "5643  Starbucks   7013-150064                      Brixton Station   \n",
       "5644  Starbucks  14945-154366                  Stansted Airport DT   \n",
       "5645  Starbucks  12949-140506  Juxon House - St. Pauls Church Yard   \n",
       "5646  Starbucks   12600-98209                     Pentonville Road   \n",
       "\n",
       "     Ownership Type                                     Street Address  \\\n",
       "5642  Company Owned  37-39 St. John's Road, Brixton Underground Sta...   \n",
       "5643  Company Owned                Shop 5, Brixton Underground Station   \n",
       "5644      Franchise         A120 Thermal Lane, London Stansted Airport   \n",
       "5645  Company Owned  St. Paul's Church Yard, Juxon House, Unit 2, R...   \n",
       "5646  Company Owned  296 Pentoville Road, Regents Corner, London - ...   \n",
       "\n",
       "        City State/Province Country  Postcode  Phone Number  \\\n",
       "5642  London            ENG      GB  SW11 1QN    2079244670   \n",
       "5643  London            ENG      GB       SW9    2072747979   \n",
       "5644  London            ENG      GB  CM24 1PY  01279 680361   \n",
       "5645  London            ENG      GB  EC4M 8EH    2072480359   \n",
       "5646  London            ENG      GB    N1 9NR    2078121073   \n",
       "\n",
       "                    Timezone  Longitude  Latitude  \n",
       "5642  GMT+0:00 Europe/London      -0.17     51.46  \n",
       "5643  GMT+0:00 Europe/London      -0.11     51.46  \n",
       "5644  GMT+0:00 Europe/London       0.25     51.88  \n",
       "5645  GMT+0:00 Europe/London      -0.10     51.51  \n",
       "5646  GMT+0:00 Europe/London      -0.12     51.53  "
      ]
     },
     "execution_count": 72,
     "metadata": {},
     "output_type": "execute_result"
    }
   ],
   "source": [
    "starbucks_df = starbucks_df[starbucks_df.City == 'London']\n",
    "starbucks_df = starbucks_df[starbucks_df.Country == 'GB']\n",
    "starbucks_df.head(5)"
   ]
  },
  {
   "cell_type": "code",
   "execution_count": 73,
   "metadata": {},
   "outputs": [
    {
     "data": {
      "text/plain": [
       "(195, 13)"
      ]
     },
     "execution_count": 73,
     "metadata": {},
     "output_type": "execute_result"
    }
   ],
   "source": [
    "starbucks_df.shape"
   ]
  },
  {
   "cell_type": "markdown",
   "metadata": {},
   "source": [
    "* Otetaan ainoastaa tarvittavat tiedot eli latitude ja longitude, koska haluamme tietää, että onko asunnon ja lähimmän starbucksin etäisyydellä merkitystä."
   ]
  },
  {
   "cell_type": "code",
   "execution_count": 74,
   "metadata": {},
   "outputs": [
    {
     "data": {
      "text/html": [
       "<div>\n",
       "<style scoped>\n",
       "    .dataframe tbody tr th:only-of-type {\n",
       "        vertical-align: middle;\n",
       "    }\n",
       "\n",
       "    .dataframe tbody tr th {\n",
       "        vertical-align: top;\n",
       "    }\n",
       "\n",
       "    .dataframe thead th {\n",
       "        text-align: right;\n",
       "    }\n",
       "</style>\n",
       "<table border=\"1\" class=\"dataframe\">\n",
       "  <thead>\n",
       "    <tr style=\"text-align: right;\">\n",
       "      <th></th>\n",
       "      <th>Latitude</th>\n",
       "      <th>Longitude</th>\n",
       "    </tr>\n",
       "  </thead>\n",
       "  <tbody>\n",
       "    <tr>\n",
       "      <td>5642</td>\n",
       "      <td>51.46</td>\n",
       "      <td>-0.17</td>\n",
       "    </tr>\n",
       "    <tr>\n",
       "      <td>5643</td>\n",
       "      <td>51.46</td>\n",
       "      <td>-0.11</td>\n",
       "    </tr>\n",
       "    <tr>\n",
       "      <td>5644</td>\n",
       "      <td>51.88</td>\n",
       "      <td>0.25</td>\n",
       "    </tr>\n",
       "    <tr>\n",
       "      <td>5645</td>\n",
       "      <td>51.51</td>\n",
       "      <td>-0.10</td>\n",
       "    </tr>\n",
       "    <tr>\n",
       "      <td>5646</td>\n",
       "      <td>51.53</td>\n",
       "      <td>-0.12</td>\n",
       "    </tr>\n",
       "  </tbody>\n",
       "</table>\n",
       "</div>"
      ],
      "text/plain": [
       "      Latitude  Longitude\n",
       "5642     51.46      -0.17\n",
       "5643     51.46      -0.11\n",
       "5644     51.88       0.25\n",
       "5645     51.51      -0.10\n",
       "5646     51.53      -0.12"
      ]
     },
     "execution_count": 74,
     "metadata": {},
     "output_type": "execute_result"
    }
   ],
   "source": [
    "starbucks_df = starbucks_df[['Latitude', 'Longitude']]\n",
    "starbucks_df.head(5)"
   ]
  },
  {
   "cell_type": "markdown",
   "metadata": {},
   "source": [
    "* Tarkistetaan, että onko tyhjiä arvoja\n",
    "* Lisäksi tarkistetaan arvojen järkevyys"
   ]
  },
  {
   "cell_type": "code",
   "execution_count": 75,
   "metadata": {},
   "outputs": [
    {
     "data": {
      "text/html": [
       "<div>\n",
       "<style scoped>\n",
       "    .dataframe tbody tr th:only-of-type {\n",
       "        vertical-align: middle;\n",
       "    }\n",
       "\n",
       "    .dataframe tbody tr th {\n",
       "        vertical-align: top;\n",
       "    }\n",
       "\n",
       "    .dataframe thead th {\n",
       "        text-align: right;\n",
       "    }\n",
       "</style>\n",
       "<table border=\"1\" class=\"dataframe\">\n",
       "  <thead>\n",
       "    <tr style=\"text-align: right;\">\n",
       "      <th></th>\n",
       "      <th>Latitude</th>\n",
       "      <th>Longitude</th>\n",
       "    </tr>\n",
       "  </thead>\n",
       "  <tbody>\n",
       "    <tr>\n",
       "      <td>count</td>\n",
       "      <td>195.000000</td>\n",
       "      <td>195.000000</td>\n",
       "    </tr>\n",
       "    <tr>\n",
       "      <td>mean</td>\n",
       "      <td>51.534410</td>\n",
       "      <td>-0.150308</td>\n",
       "    </tr>\n",
       "    <tr>\n",
       "      <td>std</td>\n",
       "      <td>0.306064</td>\n",
       "      <td>0.206512</td>\n",
       "    </tr>\n",
       "    <tr>\n",
       "      <td>min</td>\n",
       "      <td>51.410000</td>\n",
       "      <td>-2.870000</td>\n",
       "    </tr>\n",
       "    <tr>\n",
       "      <td>25%</td>\n",
       "      <td>51.500000</td>\n",
       "      <td>-0.180000</td>\n",
       "    </tr>\n",
       "    <tr>\n",
       "      <td>50%</td>\n",
       "      <td>51.510000</td>\n",
       "      <td>-0.140000</td>\n",
       "    </tr>\n",
       "    <tr>\n",
       "      <td>75%</td>\n",
       "      <td>51.520000</td>\n",
       "      <td>-0.100000</td>\n",
       "    </tr>\n",
       "    <tr>\n",
       "      <td>max</td>\n",
       "      <td>55.740000</td>\n",
       "      <td>0.250000</td>\n",
       "    </tr>\n",
       "  </tbody>\n",
       "</table>\n",
       "</div>"
      ],
      "text/plain": [
       "         Latitude   Longitude\n",
       "count  195.000000  195.000000\n",
       "mean    51.534410   -0.150308\n",
       "std      0.306064    0.206512\n",
       "min     51.410000   -2.870000\n",
       "25%     51.500000   -0.180000\n",
       "50%     51.510000   -0.140000\n",
       "75%     51.520000   -0.100000\n",
       "max     55.740000    0.250000"
      ]
     },
     "execution_count": 75,
     "metadata": {},
     "output_type": "execute_result"
    }
   ],
   "source": [
    "starbucks_df.describe()"
   ]
  },
  {
   "cell_type": "markdown",
   "metadata": {},
   "source": [
    "* Koska omituisia maksimi- ja minimiarvoja sekä tyhjiä arvoja ei ole, voidaan alkaa laskea etäisyyksiä. Etäisyyksien laskeminen kestää suhteellisen pitkään, sillä jokaiselle 59185 asunnon ja 195 kahvilan etäisyys toisistaan pitää tarkistaa.\n",
    "  Näin laskutoimituksia syntyy 59185 * 195 verran"
   ]
  },
  {
   "cell_type": "code",
   "execution_count": 76,
   "metadata": {},
   "outputs": [],
   "source": [
    "etäisyys_lista = []\n",
    "for i in range(len(alldata)):\n",
    "    lyhin_etäisyys = 1\n",
    "    latitude = alldata.latitude.iloc[i]\n",
    "    longitude = alldata.longitude.iloc[i]\n",
    "    for j in range(len(starbucks_df)):\n",
    "        if (j == 0):\n",
    "            lyhin_etäisyys = np.sqrt(np.square(latitude - starbucks_df.Latitude.iloc[j]) + \n",
    "                  np.square(longitude - starbucks_df.Longitude.iloc[j]))\n",
    "        else:\n",
    "            etäisyys = np.sqrt(np.square(latitude - starbucks_df.Latitude.iloc[j]) + \n",
    "                  np.square(longitude - starbucks_df.Longitude.iloc[j]))\n",
    "            if (etäisyys < lyhin_etäisyys):\n",
    "                lyhin_etäisyys = etäisyys\n",
    "    etäisyys_lista.append(lyhin_etäisyys)\n",
    "    \n",
    "alldata['distance_to_starbuck'] = etäisyys_lista"
   ]
  },
  {
   "cell_type": "code",
   "execution_count": 77,
   "metadata": {},
   "outputs": [
    {
     "data": {
      "text/html": [
       "<div>\n",
       "<style scoped>\n",
       "    .dataframe tbody tr th:only-of-type {\n",
       "        vertical-align: middle;\n",
       "    }\n",
       "\n",
       "    .dataframe tbody tr th {\n",
       "        vertical-align: top;\n",
       "    }\n",
       "\n",
       "    .dataframe thead th {\n",
       "        text-align: right;\n",
       "    }\n",
       "</style>\n",
       "<table border=\"1\" class=\"dataframe\">\n",
       "  <thead>\n",
       "    <tr style=\"text-align: right;\">\n",
       "      <th></th>\n",
       "      <th>latitude</th>\n",
       "      <th>longitude</th>\n",
       "      <th>accommodates</th>\n",
       "      <th>bedrooms</th>\n",
       "      <th>beds</th>\n",
       "      <th>price</th>\n",
       "      <th>minimum_nights</th>\n",
       "      <th>availability_30</th>\n",
       "      <th>number_of_reviews</th>\n",
       "      <th>review_scores_rating</th>\n",
       "      <th>reviews_per_month</th>\n",
       "      <th>Entire home/apt</th>\n",
       "      <th>Hotel room</th>\n",
       "      <th>Private room</th>\n",
       "      <th>Shared room</th>\n",
       "      <th>distance_to_center</th>\n",
       "      <th>distance_to_starbuck</th>\n",
       "    </tr>\n",
       "  </thead>\n",
       "  <tbody>\n",
       "    <tr>\n",
       "      <td>1</td>\n",
       "      <td>51.48796</td>\n",
       "      <td>-0.16898</td>\n",
       "      <td>2</td>\n",
       "      <td>1.0</td>\n",
       "      <td>1.0</td>\n",
       "      <td>100.0</td>\n",
       "      <td>10</td>\n",
       "      <td>6</td>\n",
       "      <td>88</td>\n",
       "      <td>96.0</td>\n",
       "      <td>0.71</td>\n",
       "      <td>1</td>\n",
       "      <td>0</td>\n",
       "      <td>0</td>\n",
       "      <td>0</td>\n",
       "      <td>0.045734</td>\n",
       "      <td>0.002281</td>\n",
       "    </tr>\n",
       "    <tr>\n",
       "      <td>2</td>\n",
       "      <td>51.52195</td>\n",
       "      <td>-0.14094</td>\n",
       "      <td>6</td>\n",
       "      <td>3.0</td>\n",
       "      <td>3.0</td>\n",
       "      <td>300.0</td>\n",
       "      <td>3</td>\n",
       "      <td>26</td>\n",
       "      <td>42</td>\n",
       "      <td>94.0</td>\n",
       "      <td>0.38</td>\n",
       "      <td>1</td>\n",
       "      <td>0</td>\n",
       "      <td>0</td>\n",
       "      <td>0</td>\n",
       "      <td>0.019939</td>\n",
       "      <td>0.002165</td>\n",
       "    </tr>\n",
       "    <tr>\n",
       "      <td>4</td>\n",
       "      <td>51.44687</td>\n",
       "      <td>-0.21874</td>\n",
       "      <td>4</td>\n",
       "      <td>2.0</td>\n",
       "      <td>2.0</td>\n",
       "      <td>65.0</td>\n",
       "      <td>21</td>\n",
       "      <td>7</td>\n",
       "      <td>34</td>\n",
       "      <td>93.0</td>\n",
       "      <td>0.69</td>\n",
       "      <td>1</td>\n",
       "      <td>0</td>\n",
       "      <td>0</td>\n",
       "      <td>0</td>\n",
       "      <td>0.109394</td>\n",
       "      <td>0.011117</td>\n",
       "    </tr>\n",
       "    <tr>\n",
       "      <td>6</td>\n",
       "      <td>51.46507</td>\n",
       "      <td>-0.32421</td>\n",
       "      <td>2</td>\n",
       "      <td>1.0</td>\n",
       "      <td>1.0</td>\n",
       "      <td>100.0</td>\n",
       "      <td>1</td>\n",
       "      <td>29</td>\n",
       "      <td>6</td>\n",
       "      <td>90.0</td>\n",
       "      <td>0.05</td>\n",
       "      <td>0</td>\n",
       "      <td>0</td>\n",
       "      <td>1</td>\n",
       "      <td>0</td>\n",
       "      <td>0.201176</td>\n",
       "      <td>0.037326</td>\n",
       "    </tr>\n",
       "    <tr>\n",
       "      <td>7</td>\n",
       "      <td>51.47934</td>\n",
       "      <td>-0.28066</td>\n",
       "      <td>5</td>\n",
       "      <td>3.0</td>\n",
       "      <td>3.0</td>\n",
       "      <td>195.0</td>\n",
       "      <td>3</td>\n",
       "      <td>6</td>\n",
       "      <td>77</td>\n",
       "      <td>97.0</td>\n",
       "      <td>0.67</td>\n",
       "      <td>1</td>\n",
       "      <td>0</td>\n",
       "      <td>0</td>\n",
       "      <td>0</td>\n",
       "      <td>0.155677</td>\n",
       "      <td>0.009363</td>\n",
       "    </tr>\n",
       "  </tbody>\n",
       "</table>\n",
       "</div>"
      ],
      "text/plain": [
       "   latitude  longitude  accommodates  bedrooms  beds  price  minimum_nights  \\\n",
       "1  51.48796   -0.16898             2       1.0   1.0  100.0              10   \n",
       "2  51.52195   -0.14094             6       3.0   3.0  300.0               3   \n",
       "4  51.44687   -0.21874             4       2.0   2.0   65.0              21   \n",
       "6  51.46507   -0.32421             2       1.0   1.0  100.0               1   \n",
       "7  51.47934   -0.28066             5       3.0   3.0  195.0               3   \n",
       "\n",
       "   availability_30  number_of_reviews  review_scores_rating  \\\n",
       "1                6                 88                  96.0   \n",
       "2               26                 42                  94.0   \n",
       "4                7                 34                  93.0   \n",
       "6               29                  6                  90.0   \n",
       "7                6                 77                  97.0   \n",
       "\n",
       "   reviews_per_month  Entire home/apt  Hotel room  Private room  Shared room  \\\n",
       "1               0.71                1           0             0            0   \n",
       "2               0.38                1           0             0            0   \n",
       "4               0.69                1           0             0            0   \n",
       "6               0.05                0           0             1            0   \n",
       "7               0.67                1           0             0            0   \n",
       "\n",
       "   distance_to_center  distance_to_starbuck  \n",
       "1            0.045734              0.002281  \n",
       "2            0.019939              0.002165  \n",
       "4            0.109394              0.011117  \n",
       "6            0.201176              0.037326  \n",
       "7            0.155677              0.009363  "
      ]
     },
     "execution_count": 77,
     "metadata": {},
     "output_type": "execute_result"
    }
   ],
   "source": [
    "alldata.head(5)"
   ]
  },
  {
   "cell_type": "markdown",
   "metadata": {},
   "source": [
    "#### Nyt kun dataa siivottu ja rikastettu voidaan poistaa turhat sarakkeet eli latitude ja longitude"
   ]
  },
  {
   "cell_type": "code",
   "execution_count": 78,
   "metadata": {},
   "outputs": [],
   "source": [
    "alldata = alldata.drop(['latitude', 'longitude'], axis=1)"
   ]
  },
  {
   "cell_type": "markdown",
   "metadata": {},
   "source": [
    "* Tämän jälkeen hieman visualisoidaan dataa eli katsotaan muuttujien määriä"
   ]
  },
  {
   "cell_type": "code",
   "execution_count": 79,
   "metadata": {},
   "outputs": [
    {
     "data": {
      "image/png": "[encoded data removed]",
      "text/plain": [
       "<Figure size 1440x1080 with 16 Axes>"
      ]
     },
     "metadata": {
      "needs_background": "light"
     },
     "output_type": "display_data"
    }
   ],
   "source": [
    "alldata.hist(bins=50, figsize=(20,15))\n",
    "plt.show()"
   ]
  },
  {
   "cell_type": "markdown",
   "metadata": {},
   "source": [
    "* Kuvaajista huomataan, että hotellihuoneita ja jaettuja huoneita on hyvin vähän kaikista asunnoista. "
   ]
  },
  {
   "cell_type": "markdown",
   "metadata": {},
   "source": [
    "### Analyysin vuoro\n",
    "* Tehdään analyysit erikseen yhden ja kahden huoneen airbnb kämpille ja yli kahden huoneen kämpille, joten tarkistetaan aluksi, että niiden määrä on sopiva"
   ]
  },
  {
   "cell_type": "code",
   "execution_count": 80,
   "metadata": {},
   "outputs": [
    {
     "data": {
      "text/plain": [
       "39063"
      ]
     },
     "execution_count": 80,
     "metadata": {},
     "output_type": "execute_result"
    }
   ],
   "source": [
    "len(alldata[alldata.bedrooms == 1])"
   ]
  },
  {
   "cell_type": "code",
   "execution_count": 81,
   "metadata": {},
   "outputs": [
    {
     "data": {
      "text/plain": [
       "13694"
      ]
     },
     "execution_count": 81,
     "metadata": {},
     "output_type": "execute_result"
    }
   ],
   "source": [
    "len(alldata[alldata.bedrooms == 2])"
   ]
  },
  {
   "cell_type": "code",
   "execution_count": 82,
   "metadata": {},
   "outputs": [
    {
     "data": {
      "text/plain": [
       "6416"
      ]
     },
     "execution_count": 82,
     "metadata": {},
     "output_type": "execute_result"
    }
   ],
   "source": [
    "len(alldata[alldata.bedrooms > 2])"
   ]
  },
  {
   "cell_type": "markdown",
   "metadata": {},
   "source": [
    "* Sitten teemme monimuuttujaregression, jonka avulla saadaan tärkeimmät muuttujat hinnan kannalta ja virhettä laskelmille"
   ]
  },
  {
   "cell_type": "code",
   "execution_count": 83,
   "metadata": {},
   "outputs": [
    {
     "name": "stdout",
     "output_type": "stream",
     "text": [
      "13.102878912040648\n"
     ]
    },
    {
     "data": {
      "text/plain": [
       "Text(0.5, 1.0, 'Variable Importance')"
      ]
     },
     "execution_count": 83,
     "metadata": {},
     "output_type": "execute_result"
    },
    {
     "data": {
      "image/png": "[encoded data removed]",
      "text/plain": [
       "<Figure size 576x864 with 1 Axes>"
      ]
     },
     "metadata": {
      "needs_background": "light"
     },
     "output_type": "display_data"
    }
   ],
   "source": [
    "One_bedroom_df = alldata[alldata.bedrooms == 1]\n",
    "\n",
    "X_train, X_test, y_train, y_test = train_test_split(One_bedroom_df.drop(['price'], axis=1),\n",
    "                                                    One_bedroom_df.price, test_size=0.2, random_state=20)\n",
    "\n",
    "n_est = 300\n",
    "tuned_parameters = {\n",
    "    \"n_estimators\": [ n_est ],\n",
    "    \"max_depth\" : [ 4 ],\n",
    "    \"learning_rate\": [ 0.01 ],\n",
    "    \"min_samples_split\" : [ 1.0 ],\n",
    "    \"loss\" : [ 'ls', 'lad' ]\n",
    "}\n",
    "\n",
    "gbr = ensemble.GradientBoostingRegressor()\n",
    "clf = GridSearchCV(gbr, cv=3, param_grid=tuned_parameters,\n",
    "        scoring='neg_median_absolute_error')\n",
    "preds = clf.fit(X_train, y_train)\n",
    "print(abs(clf.best_score_))\n",
    "\n",
    "feature_importance = clf.best_estimator_.feature_importances_\n",
    "feature_importance = 100.0 * (feature_importance / feature_importance.max())\n",
    "sorted_idx = np.argsort(feature_importance)\n",
    "pos = np.arange(sorted_idx.shape[0]) + .5\n",
    "pvals = feature_importance[sorted_idx]\n",
    "pcols = X_train.columns[sorted_idx]\n",
    "plt.figure(figsize=(8,12))\n",
    "plt.barh(pos, pvals, align='center')\n",
    "plt.yticks(pos, pcols)\n",
    "plt.xlabel('Relative Importance')\n",
    "plt.title('Variable Importance')"
   ]
  },
  {
   "cell_type": "markdown",
   "metadata": {},
   "source": [
    "* Huomataan, että yhden makuuhuoneen asunnoissa hinnan kannalta tärkeimmät muuttujat ovat koko asunto, etäisyys Starbucksista, etäisyys keskustasta, majoitettavien määrä ja yksityishuone. Analyysin mediaani virhe on 13,10 $"
   ]
  },
  {
   "cell_type": "code",
   "execution_count": 84,
   "metadata": {},
   "outputs": [
    {
     "name": "stdout",
     "output_type": "stream",
     "text": [
      "32.88470349593331\n"
     ]
    },
    {
     "data": {
      "text/plain": [
       "Text(0.5, 1.0, 'Variable Importance')"
      ]
     },
     "execution_count": 84,
     "metadata": {},
     "output_type": "execute_result"
    },
    {
     "data": {
      "image/png": "[encoded data removed]",
      "text/plain": [
       "<Figure size 576x864 with 1 Axes>"
      ]
     },
     "metadata": {
      "needs_background": "light"
     },
     "output_type": "display_data"
    }
   ],
   "source": [
    "Two_bedroom_df = alldata[alldata.bedrooms == 2]\n",
    "\n",
    "X_train, X_test, y_train, y_test = train_test_split(Two_bedroom_df.drop(['price'], axis=1),\n",
    "                                                    Two_bedroom_df.price, test_size=0.2, random_state=20)\n",
    "\n",
    "n_est = 300\n",
    "tuned_parameters = {\n",
    "    \"n_estimators\": [ n_est ],\n",
    "    \"max_depth\" : [ 4 ],\n",
    "    \"learning_rate\": [ 0.01 ],\n",
    "    \"min_samples_split\" : [ 1.0 ],\n",
    "    \"loss\" : [ 'ls', 'lad' ]\n",
    "}\n",
    "\n",
    "gbr = ensemble.GradientBoostingRegressor()\n",
    "clf = GridSearchCV(gbr, cv=3, param_grid=tuned_parameters,\n",
    "        scoring='neg_median_absolute_error')\n",
    "preds = clf.fit(X_train, y_train)\n",
    "print(abs(clf.best_score_))\n",
    "\n",
    "feature_importance = clf.best_estimator_.feature_importances_\n",
    "feature_importance = 100.0 * (feature_importance / feature_importance.max())\n",
    "sorted_idx = np.argsort(feature_importance)\n",
    "pos = np.arange(sorted_idx.shape[0]) + .5\n",
    "pvals = feature_importance[sorted_idx]\n",
    "pcols = X_train.columns[sorted_idx]\n",
    "plt.figure(figsize=(8,12))\n",
    "plt.barh(pos, pvals, align='center')\n",
    "plt.yticks(pos, pcols)\n",
    "plt.xlabel('Relative Importance')\n",
    "plt.title('Variable Importance')"
   ]
  },
  {
   "cell_type": "markdown",
   "metadata": {},
   "source": [
    "* Huomataan, että kahden makuuhuoneen asunnoissa hinnan kannalta tärkeimmät muuttujat ovat etäisyys Starbuckista, etäisyys keskustasta, 30 päivän saatavuus, yksityishuone ja majoitettavien määrä. Analyysin mediaani virhe on 32,88 $"
   ]
  },
  {
   "cell_type": "code",
   "execution_count": 85,
   "metadata": {},
   "outputs": [
    {
     "name": "stdout",
     "output_type": "stream",
     "text": [
      "59.02234786368056\n"
     ]
    },
    {
     "data": {
      "text/plain": [
       "Text(0.5, 1.0, 'Variable Importance')"
      ]
     },
     "execution_count": 85,
     "metadata": {},
     "output_type": "execute_result"
    },
    {
     "data": {
      "image/png": "[encoded data removed]",
      "text/plain": [
       "<Figure size 576x864 with 1 Axes>"
      ]
     },
     "metadata": {
      "needs_background": "light"
     },
     "output_type": "display_data"
    }
   ],
   "source": [
    "Over_two_bedroom_df = alldata[alldata.bedrooms > 2]\n",
    "\n",
    "X_train, X_test, y_train, y_test = train_test_split(Over_two_bedroom_df.drop(['price'], axis=1),\n",
    "                                                    Over_two_bedroom_df.price, test_size=0.2, random_state=20)\n",
    "\n",
    "n_est = 300\n",
    "tuned_parameters = {\n",
    "    \"n_estimators\": [ n_est ],\n",
    "    \"max_depth\" : [ 4 ],\n",
    "    \"learning_rate\": [ 0.01 ],\n",
    "    \"min_samples_split\" : [ 1.0 ],\n",
    "    \"loss\" : [ 'ls', 'lad' ]\n",
    "}\n",
    "\n",
    "gbr = ensemble.GradientBoostingRegressor()\n",
    "clf = GridSearchCV(gbr, cv=3, param_grid=tuned_parameters,\n",
    "        scoring='neg_median_absolute_error')\n",
    "preds = clf.fit(X_train, y_train)\n",
    "print(abs(clf.best_score_))\n",
    "\n",
    "feature_importance = clf.best_estimator_.feature_importances_\n",
    "feature_importance = 100.0 * (feature_importance / feature_importance.max())\n",
    "sorted_idx = np.argsort(feature_importance)\n",
    "pos = np.arange(sorted_idx.shape[0]) + .5\n",
    "pvals = feature_importance[sorted_idx]\n",
    "pcols = X_train.columns[sorted_idx]\n",
    "plt.figure(figsize=(8,12))\n",
    "plt.barh(pos, pvals, align='center')\n",
    "plt.yticks(pos, pcols)\n",
    "plt.xlabel('Relative Importance')\n",
    "plt.title('Variable Importance')"
   ]
  },
  {
   "cell_type": "markdown",
   "metadata": {},
   "source": [
    "* Huomataan, että yli kahden makuuhuoneen asunnoissa hinnan kannalta tärkeimmät muuttujat ovat etäisyys Starbucksista, majoitettavien määrä, sänkyjen määrä, etäisyys keskustasta, yksityishuone ja 30 päivän saatavuus. Analyysin mediaani virhe on 59,02 $"
   ]
  },
  {
   "cell_type": "markdown",
   "metadata": {},
   "source": [
    "## Lopputulos"
   ]
  },
  {
   "cell_type": "markdown",
   "metadata": {},
   "source": [
    "* Eri muuttujat vaikuttavat hintaan eniten, kun makuuhuoneiden määrää vaihdetaan\n",
    "* Analyysi on tarkin yhden makuuhuoneen asunnoissa, joka johtuu todennäköisesti siitä, että niitä on lukumäärällisesti eniten\n",
    "* Tätä analyysiä voi Lontoon vuokranantaja hyödyntää olemassa olevan asunnon hinnna määrittämisessä tai uuden asunnon ostossa, kun mietitään vuokrapotentiaalia"
   ]
  },
  {
   "cell_type": "markdown",
   "metadata": {},
   "source": [
    "#### Tekijä\n",
    "* Saku Laitinen, saku.laitinen@tuni.fi"
   ]
  }
 ],
 "metadata": {
  "kernelspec": {
   "display_name": "Python 3",
   "language": "python",
   "name": "python3"
  },
  "language_info": {
   "codemirror_mode": {
    "name": "ipython",
    "version": 3
   },
   "file_extension": ".py",
   "mimetype": "text/x-python",
   "name": "python",
   "nbconvert_exporter": "python",
   "pygments_lexer": "ipython3",
   "version": "3.8.5"
  }
 },
 "nbformat": 4,
 "nbformat_minor": 4
}
